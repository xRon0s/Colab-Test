{
  "nbformat": 4,
  "nbformat_minor": 0,
  "metadata": {
    "colab": {
      "provenance": [],
      "authorship_tag": "ABX9TyO3iObWrIobI20qmmmuEDoW",
      "include_colab_link": true
    },
    "kernelspec": {
      "name": "python3",
      "display_name": "Python 3"
    },
    "language_info": {
      "name": "python"
    }
  },
  "cells": [
    {
      "cell_type": "markdown",
      "metadata": {
        "id": "view-in-github",
        "colab_type": "text"
      },
      "source": [
        "<a href=\"https://colab.research.google.com/github/xRon0s/Colab-Test/blob/main/%E7%AC%AC17%E5%9B%9E%E8%AC%9B%E7%BE%A9.ipynb\" target=\"_parent\"><img src=\"https://colab.research.google.com/assets/colab-badge.svg\" alt=\"Open In Colab\"/></a>"
      ]
    },
    {
      "cell_type": "code",
      "execution_count": 3,
      "metadata": {
        "colab": {
          "base_uri": "https://localhost:8080/"
        },
        "id": "LN-QDOKx7i-T",
        "outputId": "a64491e6-f68e-43a2-d6f5-f7b9537571d4"
      },
      "outputs": [
        {
          "output_type": "stream",
          "name": "stdout",
          "text": [
            "型確認 arr1 => <class 'list'>\n",
            "型確認 arr2 => <class 'list'>\n",
            "arr1 の長さ（要素数）は 4\n",
            "arr2 の長さ（要素数）は 4\n",
            "arr2[0] の長さ（要素数）は 2\n",
            "arr2[1] の長さ（要素数）は 3\n"
          ]
        }
      ],
      "source": [
        "%reset -f\n",
        "arr1 = [29, 3.14, \"円周率\", False] # 様々な型を内包することが可能\n",
        "arr2 = [[0.0, 0.1],       # 行ごとの要素数が違っていても可\n",
        "        [1.0, 1.1, 1.2],\n",
        "        [2.0],\n",
        "        [3.0, 3.1, 3.2, 3.3]]\n",
        "\n",
        "print(f'型確認 arr1 => {type(arr1)}') # 型確認 arr1 => <class 'list'>\n",
        "print(f'型確認 arr2 => {type(arr2)}') # 型確認 arr1 => <class 'list'>\n",
        "\n",
        "lenarr1 = len(arr1)\n",
        "lenarr2 = len(arr2)\n",
        "lenarr2_0 = len(arr2[0])\n",
        "lenarr2_1 = len(arr2[1])\n",
        "\n",
        "print(f'arr1 の長さ（要素数）は {lenarr1}') # => 4\n",
        "print(f'arr2 の長さ（要素数）は {lenarr2}') # => 4\n",
        "print(f'arr2[0] の長さ（要素数）は {lenarr2_0}') # => 2\n",
        "print(f'arr2[1] の長さ（要素数）は {lenarr2_1}') # => 3"
      ]
    },
    {
      "cell_type": "code",
      "source": [
        "%reset -f\n",
        "arr3 = [[26, 38, 14, 57], # 3行4列の2次配列の初期化\n",
        "        [39, 31, 94, 63],\n",
        "        [41, 72, 65, 24]]\n",
        "\n",
        "# 演習1\n",
        "a = arr3[1][1]\n",
        "print(f'a = {a}')\n",
        "\n",
        "# 演習2\n",
        "# ここで何らかの操作を実施\n",
        "arr3[0][3] = 60\n",
        "print(arr3) # 57が60に変わっていることを確認\n",
        "\n",
        "# 演習3\n",
        "b = arr3[-1][-1]\n",
        "print(f'b = {b}')"
      ],
      "metadata": {
        "colab": {
          "base_uri": "https://localhost:8080/"
        },
        "id": "CjOM9_bD9IHQ",
        "outputId": "b5134c2f-67b3-485f-d3b1-eaf83bc717f7"
      },
      "execution_count": 7,
      "outputs": [
        {
          "output_type": "stream",
          "name": "stdout",
          "text": [
            "a = 31\n",
            "[[26, 38, 14, 60], [39, 31, 94, 63], [41, 72, 65, 24]]\n",
            "b = 24\n"
          ]
        }
      ]
    },
    {
      "cell_type": "code",
      "source": [
        "%reset -f\n",
        "arr4 = ['A','B','C']\n",
        "arr4.append('D') # 末尾に 'D' を挿入\n",
        "arr4.append('E')\n",
        "print('arr4 = ',end='')\n",
        "print(arr4) # => ['A','B','C','D','E']\n",
        "\n",
        "arr5 = []\n",
        "arr5.append(['A','B'])\n",
        "arr5.append([]) # 末尾に 空のリスト [] を挿入\n",
        "arr5[1].append('C') # 上で挿入した空リストの末尾に 'C' を挿入\n",
        "arr5[1].append('D')\n",
        "print('arr5 = ',end='')\n",
        "arr5.append([])\n",
        "arr5[2].append(\"E\")\n",
        "arr5[2].append(\"F\")\n",
        "print(arr5) # =>[['A','B'], ['C','D']]"
      ],
      "metadata": {
        "colab": {
          "base_uri": "https://localhost:8080/"
        },
        "id": "maGNsZao-D2W",
        "outputId": "2b18914a-cdd9-4ff6-a279-cd501c1f4de0"
      },
      "execution_count": 12,
      "outputs": [
        {
          "output_type": "stream",
          "name": "stdout",
          "text": [
            "arr4 = ['A', 'B', 'C', 'D', 'E']\n",
            "arr5 = [['A', 'B'], ['C', 'D'], ['E', 'F']]\n"
          ]
        }
      ]
    },
    {
      "cell_type": "code",
      "source": [
        "%reset -f\n",
        "arr6 = [[10, 20, 30, 40],\n",
        "        [50, 60, 70],\n",
        "        [80, 90]]\n",
        "\n",
        "for i in range(len(arr6)):\n",
        "  for j in range(len(arr6[i])):\n",
        "    arr6[i][j] += 5\n",
        "\n",
        "print(arr6)\n",
        "\n",
        "# 演習\n",
        "arr7 = [[20,30,40],[50,40,30]]\n",
        "arr8 = [[10,20,10],[20,10,10]]\n",
        "arr9 = []\n",
        "\n",
        "for i in range(len(arr7)):\n",
        "  arr9.append([0] * len(arr7[i]))\n",
        "\n",
        "for u in range(len(arr7)):\n",
        "      for v in range(len(arr7[u])):\n",
        "        arr9[u][v] = arr7[u][v] + arr8[u][v]\n",
        "\n",
        "\n",
        "print(arr9) # => [[30, 50, 50], [70, 50, 40]]"
      ],
      "metadata": {
        "colab": {
          "base_uri": "https://localhost:8080/"
        },
        "id": "cmhboxxZ-0ge",
        "outputId": "b48eed3d-5d54-4254-980a-e1c952c6f413"
      },
      "execution_count": 27,
      "outputs": [
        {
          "output_type": "stream",
          "name": "stdout",
          "text": [
            "[[15, 25, 35, 45], [55, 65, 75], [85, 95]]\n",
            "[[30, 50, 50], [70, 50, 40]]\n"
          ]
        }
      ]
    },
    {
      "cell_type": "code",
      "source": [
        "%reset -f\n",
        "arr = list(range(1,11)) # rangeを使用した初期化\n",
        "print(arr) # => [1, 2, 3, 4, 5, 6, 7, 8, 9, 10]\n",
        "\n",
        "print(arr[:3])   # arr[0]からarr[2]までスライス\n",
        "print(arr[2:5])  # arr[2]からarr[4]までスライス\n",
        "print(arr[4:])   # arr[4]から末尾までスライス\n",
        "print(arr[5:5+3])  # arr[5]から要素3個をスライス\n",
        "print(arr[1:1+5])"
      ],
      "metadata": {
        "colab": {
          "base_uri": "https://localhost:8080/"
        },
        "id": "VyPSzfx5BrFv",
        "outputId": "21e80d83-1b20-4a0b-c673-f58577b38eba"
      },
      "execution_count": 30,
      "outputs": [
        {
          "output_type": "stream",
          "name": "stdout",
          "text": [
            "[1, 2, 3, 4, 5, 6, 7, 8, 9, 10]\n",
            "[1, 2, 3]\n",
            "[3, 4, 5]\n",
            "[5, 6, 7, 8, 9, 10]\n",
            "[6, 7, 8]\n",
            "[2, 3, 4, 5, 6]\n"
          ]
        }
      ]
    },
    {
      "cell_type": "code",
      "source": [
        "%reset -f\n",
        "import copy\n",
        "\n",
        "# ■■ 浅いコピー ■■\n",
        "arr10 = [10,20,30]\n",
        "arr11 = arr10  # 浅いコピー\n",
        "arr11[0] = 'A'\n",
        "print('浅いコピー')\n",
        "print(f'arr10 = {arr10}') # => arr10 = ['A', 20, 30] ← !!!\n",
        "print(f'arr11 = {arr11}') # => arr11 = ['A', 20, 30]\n",
        "\n",
        "# ■■ 深いコピー ■■\n",
        "arr10 = [10,20,30]\n",
        "arr11 = copy.deepcopy(arr10)  # 深いコピー\n",
        "arr11[0] = 'A'\n",
        "print('深いコピー')\n",
        "print(f'arr10 = {arr10}') # => arr10 = [10, 20, 30] ← :D\n",
        "print(f'arr11 = {arr11}') # => arr11 = ['A', 20, 30]"
      ],
      "metadata": {
        "colab": {
          "base_uri": "https://localhost:8080/"
        },
        "id": "b8JxZ0_JBwFx",
        "outputId": "358891b9-f861-4e87-e102-1a7ee80213f8"
      },
      "execution_count": 31,
      "outputs": [
        {
          "output_type": "stream",
          "name": "stdout",
          "text": [
            "浅いコピー\n",
            "arr10 = ['A', 20, 30]\n",
            "arr11 = ['A', 20, 30]\n",
            "深いコピー\n",
            "arr10 = [10, 20, 30]\n",
            "arr11 = ['A', 20, 30]\n"
          ]
        }
      ]
    },
    {
      "cell_type": "code",
      "source": [
        "%reset -f\n",
        "arr = [20,30]    # [ ] により「リスト型」として初期化される\n",
        "print(type(arr)) # => <class 'list'>\n",
        "\n",
        "tpl = (20,30)    # ( ) により「タプル型」として初期化される\n",
        "print(type(tpl)) # => <class 'tuple'>"
      ],
      "metadata": {
        "colab": {
          "base_uri": "https://localhost:8080/"
        },
        "id": "EDkgUXKWCYf2",
        "outputId": "79183aad-b698-4280-8588-25ee34904af1"
      },
      "execution_count": 32,
      "outputs": [
        {
          "output_type": "stream",
          "name": "stdout",
          "text": [
            "<class 'list'>\n",
            "<class 'tuple'>\n"
          ]
        }
      ]
    },
    {
      "cell_type": "code",
      "source": [
        "%reset -f\n",
        "tpl = (20,30)\n",
        "tpl = (50,60) # 丸ごと入れ替え\n",
        "print(f'tpl = {tpl}') # tpl => (50,60)"
      ],
      "metadata": {
        "colab": {
          "base_uri": "https://localhost:8080/"
        },
        "id": "KutAlpJMCxS6",
        "outputId": "fd86252a-9a9d-4e0a-dabd-de9995f3f438"
      },
      "execution_count": 33,
      "outputs": [
        {
          "output_type": "stream",
          "name": "stdout",
          "text": [
            "tpl = (50, 60)\n"
          ]
        }
      ]
    },
    {
      "cell_type": "code",
      "source": [
        "%reset -f\n",
        "course = {'I':'知能情報', 'M':'エネルギー機械'} # 辞書の初期化\n",
        "course['E'] = 'エレクトロニクス' # 初期化後の辞書に追加\n",
        "course['D'] = 'プロダクトデザイン'\n",
        "\n",
        "key = 'D'\n",
        "print(f'{key} ... {course[key]}')\n",
        "print()\n",
        "\n",
        "# for構文の組合せた全列挙\n",
        "for key in course.keys():\n",
        "  print(f'{key} ... {course[key]}')"
      ],
      "metadata": {
        "colab": {
          "base_uri": "https://localhost:8080/"
        },
        "id": "VLLT1TMTDBu_",
        "outputId": "cde669dc-0fc4-4a25-b151-60e565895ddc"
      },
      "execution_count": 43,
      "outputs": [
        {
          "output_type": "stream",
          "name": "stdout",
          "text": [
            "D ... プロダクトデザイン\n",
            "\n",
            "I ... 知能情報\n",
            "M ... エネルギー機械\n",
            "E ... エレクトロニクス\n",
            "D ... プロダクトデザイン\n"
          ]
        }
      ]
    },
    {
      "cell_type": "code",
      "source": [
        "%reset -f\n",
        "timetable = {\n",
        "  ('月',1) : 'プログラミング1',\n",
        "  ('月',3) : '基礎物理2',\n",
        "  ('月',5) : '微分積分2'\n",
        "}\n",
        "timetable[ ('火',1) ] = 'メディアデザイン入門'\n",
        "timetable[ ('火',3) ] = '社会2'\n",
        "\n",
        "key = ('水',1)\n",
        "print(f'{key[0]}曜日 {key[1]}時限 ',end='')\n",
        "if key not in timetable.keys(): # キーが存在するかチェック\n",
        "  print(f'に授業は登録されていません')\n",
        "else:\n",
        "  print(f'は「{timetable[key]}」が開講されます')\n",
        "\n",
        "key = ('月',3)\n",
        "print(f'{key[0]}曜日 {key[1]}時限 ',end='')\n",
        "if key not in timetable.keys():\n",
        "  print(f'に授業は登録されていません')\n",
        "else:\n",
        "  print(f'は「{timetable[key]}」が開講がされています')"
      ],
      "metadata": {
        "colab": {
          "base_uri": "https://localhost:8080/"
        },
        "id": "OLKPU4wYDqMB",
        "outputId": "0601afb1-bbac-447f-9564-d529dc0c3ade"
      },
      "execution_count": 44,
      "outputs": [
        {
          "output_type": "stream",
          "name": "stdout",
          "text": [
            "水曜日 1時限 に授業は登録されていません\n",
            "月曜日 3時限 は「基礎物理2」が開講がされています\n"
          ]
        }
      ]
    },
    {
      "cell_type": "code",
      "source": [
        "%reset -f\n",
        "a = [20,30]     # 変数a にリスト型のオブジェクトを格納\n",
        "print(type(a))  # => <class 'list'>\n",
        "print(f'a={a}') # => a=[20, 30]\n",
        "print()\n",
        "\n",
        "t = tuple(a)    # リスト型→タプル型に変換\n",
        "\n",
        "print(type(t))  # => <class 'tuple'>\n",
        "print(f't={t}') # => t=(20, 30)\n",
        "a.append(40)\n",
        "print(a)\n",
        "\n"
      ],
      "metadata": {
        "colab": {
          "base_uri": "https://localhost:8080/"
        },
        "id": "bIqsmQxlERlj",
        "outputId": "c4afc3ba-dd26-42f8-807f-f763208d9374"
      },
      "execution_count": 48,
      "outputs": [
        {
          "output_type": "stream",
          "name": "stdout",
          "text": [
            "<class 'list'>\n",
            "a=[20, 30]\n",
            "\n",
            "<class 'tuple'>\n",
            "t=(20, 30)\n",
            "[20, 30, 40]\n"
          ]
        }
      ]
    },
    {
      "cell_type": "code",
      "source": [
        "%reset -f\n",
        "t = (20,30)     # 変数a にタプル型のオブジェクトを格納\n",
        "print(type(t))  # => <class 'tuple'>\n",
        "print(f't={t}') # => t=(20, 30)\n",
        "print()\n",
        "\n",
        "a = list(t)     # タプル型→リスト型に変換\n",
        "\n",
        "print(type(a))  # => <class 'list'>\n",
        "print(f'a={a}') # => a=[20, 30]"
      ],
      "metadata": {
        "colab": {
          "base_uri": "https://localhost:8080/"
        },
        "id": "p5Wh5hO7EXo-",
        "outputId": "6ece18fa-ce7c-43d8-f4fd-5d60c280e8ad"
      },
      "execution_count": 46,
      "outputs": [
        {
          "output_type": "stream",
          "name": "stdout",
          "text": [
            "<class 'tuple'>\n",
            "t=(20, 30)\n",
            "\n",
            "<class 'list'>\n",
            "a=[20, 30]\n"
          ]
        }
      ]
    },
    {
      "cell_type": "code",
      "source": [
        "%reset -f\n",
        "a = [10,20,30]\n",
        "t = tuple(a)\n",
        "print(f't={t}') # => t=(10, 20, 30)\n",
        "\n",
        "a[1] = 50\n",
        "print(f't={t}') # => ???\n",
        "print(f't={a}') # => ???"
      ],
      "metadata": {
        "colab": {
          "base_uri": "https://localhost:8080/"
        },
        "id": "lAbqpzT2E4XC",
        "outputId": "2c8191b4-8de0-4a62-b8d1-195c80947386"
      },
      "execution_count": 51,
      "outputs": [
        {
          "output_type": "stream",
          "name": "stdout",
          "text": [
            "t=(10, 20, 30)\n",
            "t=(10, 20, 30)\n",
            "t=[10, 50, 30]\n"
          ]
        }
      ]
    },
    {
      "cell_type": "code",
      "source": [
        "%reset -f\n",
        "import numpy as np  # numpy をインポート\n",
        "\n",
        "A = np.array([[20,30,40],[50,40,30]])\n",
        "B = np.array([[10,20,10],[20,10,10]])\n",
        "# print(type(A)) # => <class 'numpy.ndarray'>\n",
        "print(A+B)"
      ],
      "metadata": {
        "colab": {
          "base_uri": "https://localhost:8080/"
        },
        "id": "ueQ2KCJhFd4e",
        "outputId": "1c5429fc-fff9-4614-8b70-d796a0e76655"
      },
      "execution_count": 52,
      "outputs": [
        {
          "output_type": "stream",
          "name": "stdout",
          "text": [
            "[[30 50 50]\n",
            " [70 50 40]]\n"
          ]
        }
      ]
    },
    {
      "cell_type": "code",
      "source": [
        "%reset -f\n",
        "import numpy as np\n",
        "A = np.array([[ 1, 3],[ 2, 5]])\n",
        "B = np.array([[ 2,-1],[-3, 1]])\n",
        "\n",
        "#【実数倍】 例：2A-B\n",
        "X = 2*A-B\n",
        "print(X)\n",
        "\n",
        "#【積】 例：A・B\n",
        "Y = A@B # もしくは np.dot(A,B)\n",
        "print(Y)"
      ],
      "metadata": {
        "colab": {
          "base_uri": "https://localhost:8080/"
        },
        "id": "rDmpDhVjF1Be",
        "outputId": "f56a85ac-d19f-4ceb-f3e9-bafff26aaa70"
      },
      "execution_count": 53,
      "outputs": [
        {
          "output_type": "stream",
          "name": "stdout",
          "text": [
            "[[0 7]\n",
            " [7 9]]\n",
            "[[ -7   2]\n",
            " [-11   3]]\n"
          ]
        }
      ]
    },
    {
      "cell_type": "code",
      "source": [
        "%reset -f\n",
        "import numpy as np\n",
        "A = np.array([[0,1],[5,2]])\n",
        "B = np.array([[0,-1],[4,2]])\n",
        "\n",
        "ans_1 = 2*(A-4*B)+3*(A+2*B)\n",
        "print(ans_1)\n",
        "\n",
        "C=np.array([[2,-4,3],[1,2,-3]])\n",
        "D=np.array([[1,-3,2],[-1,-2,1],[-2,0,5]])\n",
        "\n",
        "ans_2 = C@D\n",
        "print(ans_2)"
      ],
      "metadata": {
        "colab": {
          "base_uri": "https://localhost:8080/"
        },
        "id": "CZ4dJQ1sGF75",
        "outputId": "d3c6b230-6e4c-440c-de16-655484b98657"
      },
      "execution_count": 55,
      "outputs": [
        {
          "output_type": "stream",
          "name": "stdout",
          "text": [
            "[[ 0  7]\n",
            " [17  6]]\n",
            "[[  0   2  15]\n",
            " [  5  -7 -11]]\n"
          ]
        }
      ]
    },
    {
      "cell_type": "code",
      "source": [
        "%reset -f\n",
        "import numpy as np\n",
        "a = np.array([[ 1, 3],[ 2, 5]])\n",
        "print(f'ndarray型の変数 a の1行0列目の値は => {a[1][0]}')\n",
        "print(f'ndarray型の変数 a の1行0列目の値は => {a[1,0]}') # 注目"
      ],
      "metadata": {
        "colab": {
          "base_uri": "https://localhost:8080/"
        },
        "id": "I2Vbd1byHdr_",
        "outputId": "2f6ac1d8-ffc5-4db4-9ae2-bd86cd718ebd"
      },
      "execution_count": 56,
      "outputs": [
        {
          "output_type": "stream",
          "name": "stdout",
          "text": [
            "ndarray型の変数 a の1行0列目の値は => 2\n",
            "ndarray型の変数 a の1行0列目の値は => 2\n"
          ]
        }
      ]
    },
    {
      "cell_type": "code",
      "source": [
        "%reset -f\n",
        "import numpy as np\n",
        "A = np.array([[3,4,5],[6,7,8]])\n",
        "X = A - 3 # ここでブロードキャストが適用\n",
        "print(X)"
      ],
      "metadata": {
        "colab": {
          "base_uri": "https://localhost:8080/"
        },
        "id": "n6ufXb2NHqa1",
        "outputId": "331858ca-ecd1-4d62-9d69-c6b23d1b5878"
      },
      "execution_count": 57,
      "outputs": [
        {
          "output_type": "stream",
          "name": "stdout",
          "text": [
            "[[0 1 2]\n",
            " [3 4 5]]\n"
          ]
        }
      ]
    },
    {
      "cell_type": "code",
      "source": [
        "%reset -f\n",
        "import numpy as np\n",
        "import sympy as sp  # sympyをspとしてインポート\n",
        "A = np.array([[20,30,40],[50,40,30]])\n",
        "B = np.array([[10,20,10],[20,10,10]])\n",
        "X = A+B\n",
        "print('A+B=')\n",
        "display(sp.Matrix(X)) # ndarray型の行列を整形出力"
      ],
      "metadata": {
        "colab": {
          "base_uri": "https://localhost:8080/",
          "height": 76
        },
        "id": "rjEMeHehHrsF",
        "outputId": "475f7e26-f0fa-4952-c96c-385d8b17c7b9"
      },
      "execution_count": 58,
      "outputs": [
        {
          "output_type": "stream",
          "name": "stdout",
          "text": [
            "A+B=\n"
          ]
        },
        {
          "output_type": "display_data",
          "data": {
            "text/plain": [
              "Matrix([\n",
              "[30, 50, 50],\n",
              "[70, 50, 40]])"
            ],
            "text/latex": "$\\displaystyle \\left[\\begin{matrix}30 & 50 & 50\\\\70 & 50 & 40\\end{matrix}\\right]$"
          },
          "metadata": {}
        }
      ]
    },
    {
      "cell_type": "code",
      "source": [
        "%reset -f\n",
        "import numpy as np\n",
        "import sympy as sp  # sympyをspとしてインポート\n",
        "from IPython.display import Math\n",
        "\n",
        "# 行列をLaTeX形式で表示する関数\n",
        "def display_math(equation_str, matrix):\n",
        "  math_str = equation_str + sp.latex(sp.Matrix(matrix))\n",
        "  display(Math(math_str))\n",
        "\n",
        "# 数値行列の作成\n",
        "A = np.array([[20, 30, 40], [50, 40, 30]])\n",
        "B = np.array([[10, 20, 10], [20, 10, 10]])\n",
        "\n",
        "# 行列の加算\n",
        "X = A + B\n",
        "\n",
        "# 結果の表示\n",
        "display_math('A=',A)\n",
        "display_math('B=',B)\n",
        "display_math('X=A+B=',X)"
      ],
      "metadata": {
        "colab": {
          "base_uri": "https://localhost:8080/",
          "height": 139
        },
        "id": "hLBoR-KpH4Gv",
        "outputId": "52f7754c-0827-4ab7-b7ce-327269082611"
      },
      "execution_count": 59,
      "outputs": [
        {
          "output_type": "display_data",
          "data": {
            "text/plain": [
              "<IPython.core.display.Math object>"
            ],
            "text/latex": "$\\displaystyle A=\\left[\\begin{matrix}20 & 30 & 40\\\\50 & 40 & 30\\end{matrix}\\right]$"
          },
          "metadata": {}
        },
        {
          "output_type": "display_data",
          "data": {
            "text/plain": [
              "<IPython.core.display.Math object>"
            ],
            "text/latex": "$\\displaystyle B=\\left[\\begin{matrix}10 & 20 & 10\\\\20 & 10 & 10\\end{matrix}\\right]$"
          },
          "metadata": {}
        },
        {
          "output_type": "display_data",
          "data": {
            "text/plain": [
              "<IPython.core.display.Math object>"
            ],
            "text/latex": "$\\displaystyle X=A+B=\\left[\\begin{matrix}30 & 50 & 50\\\\70 & 50 & 40\\end{matrix}\\right]$"
          },
          "metadata": {}
        }
      ]
    },
    {
      "cell_type": "code",
      "source": [
        "%reset -f\n",
        "from IPython.display import Math\n",
        "eq1 = r'\\lim_{n \\to -1}\\frac{-1}{(x+1)^2}=-\\infty'\n",
        "eq2 = r'\\sin^{-1}\\frac{\\sqrt{3}}{2}=\\frac{\\pi}{3}'\n",
        "display(Math(eq1))\n",
        "display(Math(eq2))"
      ],
      "metadata": {
        "colab": {
          "base_uri": "https://localhost:8080/",
          "height": 94
        },
        "id": "bbFPPAaiIBfm",
        "outputId": "cebdd5d1-6b8b-456f-f3aa-9bae90cba938"
      },
      "execution_count": 60,
      "outputs": [
        {
          "output_type": "display_data",
          "data": {
            "text/plain": [
              "<IPython.core.display.Math object>"
            ],
            "text/latex": "$\\displaystyle \\lim_{n \\to -1}\\frac{-1}{(x+1)^2}=-\\infty$"
          },
          "metadata": {}
        },
        {
          "output_type": "display_data",
          "data": {
            "text/plain": [
              "<IPython.core.display.Math object>"
            ],
            "text/latex": "$\\displaystyle \\sin^{-1}\\frac{\\sqrt{3}}{2}=\\frac{\\pi}{3}$"
          },
          "metadata": {}
        }
      ]
    },
    {
      "cell_type": "code",
      "source": [
        "%reset -f\n",
        "import numpy as np\n",
        "x = np.arange(0.00,40,0.25)\n",
        "print(f'x.size => {x.size}')\n",
        "print(x)"
      ],
      "metadata": {
        "colab": {
          "base_uri": "https://localhost:8080/"
        },
        "id": "NyswZej0IxfX",
        "outputId": "ba0ae8f8-702f-4571-c906-fa9a0c3f95a2"
      },
      "execution_count": 63,
      "outputs": [
        {
          "output_type": "stream",
          "name": "stdout",
          "text": [
            "x.size => 160\n",
            "[ 0.    0.25  0.5   0.75  1.    1.25  1.5   1.75  2.    2.25  2.5   2.75\n",
            "  3.    3.25  3.5   3.75  4.    4.25  4.5   4.75  5.    5.25  5.5   5.75\n",
            "  6.    6.25  6.5   6.75  7.    7.25  7.5   7.75  8.    8.25  8.5   8.75\n",
            "  9.    9.25  9.5   9.75 10.   10.25 10.5  10.75 11.   11.25 11.5  11.75\n",
            " 12.   12.25 12.5  12.75 13.   13.25 13.5  13.75 14.   14.25 14.5  14.75\n",
            " 15.   15.25 15.5  15.75 16.   16.25 16.5  16.75 17.   17.25 17.5  17.75\n",
            " 18.   18.25 18.5  18.75 19.   19.25 19.5  19.75 20.   20.25 20.5  20.75\n",
            " 21.   21.25 21.5  21.75 22.   22.25 22.5  22.75 23.   23.25 23.5  23.75\n",
            " 24.   24.25 24.5  24.75 25.   25.25 25.5  25.75 26.   26.25 26.5  26.75\n",
            " 27.   27.25 27.5  27.75 28.   28.25 28.5  28.75 29.   29.25 29.5  29.75\n",
            " 30.   30.25 30.5  30.75 31.   31.25 31.5  31.75 32.   32.25 32.5  32.75\n",
            " 33.   33.25 33.5  33.75 34.   34.25 34.5  34.75 35.   35.25 35.5  35.75\n",
            " 36.   36.25 36.5  36.75 37.   37.25 37.5  37.75 38.   38.25 38.5  38.75\n",
            " 39.   39.25 39.5  39.75]\n"
          ]
        }
      ]
    },
    {
      "cell_type": "code",
      "source": [
        "%reset -f\n",
        "import numpy as np\n",
        "x = np.linspace(0.00,3.00,20)\n",
        "assert x.size == 20\n",
        "print(x)"
      ],
      "metadata": {
        "colab": {
          "base_uri": "https://localhost:8080/"
        },
        "id": "er4k76ISI5hz",
        "outputId": "b3f3dc75-5937-4144-c78b-8229fc292958"
      },
      "execution_count": 69,
      "outputs": [
        {
          "output_type": "stream",
          "name": "stdout",
          "text": [
            "[0.         0.15789474 0.31578947 0.47368421 0.63157895 0.78947368\n",
            " 0.94736842 1.10526316 1.26315789 1.42105263 1.57894737 1.73684211\n",
            " 1.89473684 2.05263158 2.21052632 2.36842105 2.52631579 2.68421053\n",
            " 2.84210526 3.        ]\n"
          ]
        }
      ]
    },
    {
      "cell_type": "code",
      "source": [
        "%reset -f\n",
        "import  numpy as np\n",
        "x = np.linspace(0.0,1.0,11) # 0.0 から 1.0 の範囲を11等分\n",
        "print(f'x = {x}')\n",
        "\n",
        "y = 2*x + 3 # ブロードキャストによる計算\n",
        "print(f'y = {y}')"
      ],
      "metadata": {
        "colab": {
          "base_uri": "https://localhost:8080/"
        },
        "id": "DdHpFkORJRTB",
        "outputId": "39205085-4730-4b38-9387-75e91777079e"
      },
      "execution_count": 70,
      "outputs": [
        {
          "output_type": "stream",
          "name": "stdout",
          "text": [
            "x = [0.  0.1 0.2 0.3 0.4 0.5 0.6 0.7 0.8 0.9 1. ]\n",
            "y = [3.  3.2 3.4 3.6 3.8 4.  4.2 4.4 4.6 4.8 5. ]\n"
          ]
        }
      ]
    },
    {
      "cell_type": "code",
      "source": [
        "%reset -f\n",
        "import numpy as np\n",
        "import matplotlib.pyplot as plt  # Matplotlib の読込み\n",
        "\n",
        "x = np.linspace(-4,4,101)\n",
        "y = -x**3 + 3*x**2 + 9*x -27\n",
        "assert type(x) == np.ndarray  # x は ndarray型であることを確認\n",
        "assert type(y) == np.ndarray  # y は 〃\n",
        "\n",
        "fig,ax = plt.subplots(dpi=120)\n",
        "# ax.plot(x,y)\n",
        "ax.scatter(x,y,marker='o',s=15,alpha=0.5) # x と y を与えて丸を描画\n",
        "ax.axhline(0,c='black',lw=0.5) # y=0 に太線を描画\n",
        "ax.axvline(0,c='black',lw=0.5) # x=0 に太線を描画\n",
        "ax.grid() # グリッドの表示\n",
        "plt.show()"
      ],
      "metadata": {
        "colab": {
          "base_uri": "https://localhost:8080/",
          "height": 497
        },
        "id": "WgUC4lEhJXRc",
        "outputId": "207d3ce1-50c5-42ad-8788-5dd04e710ca2"
      },
      "execution_count": 71,
      "outputs": [
        {
          "output_type": "display_data",
          "data": {
            "text/plain": [
              "<Figure size 768x576 with 1 Axes>"
            ],
            "image/png": "[encoded data removed]"
          },
          "metadata": {}
        }
      ]
    },
    {
      "cell_type": "code",
      "source": [
        "import cv2\n",
        "import numpy as np\n",
        "import matplotlib.pyplot as plt\n",
        "\n",
        "# 画像表示(Matplotlibのimshowを利用)\n",
        "def show_image(img):\n",
        "  plt.imshow(img,cmap='gray')\n",
        "  plt.axis('off')\n",
        "  plt.show()\n",
        "\n",
        "# 画像をグレースケール(8bit)で読み込み\n",
        "img = cv2.imread('lenna_256x256.png',cv2.IMREAD_GRAYSCALE)\n",
        "\n",
        "# 変数imgが格納するオブジェクトの基本情報の確認\n",
        "print(f'img は {type(img)} 型のデータで、',end='')\n",
        "print(f'次元は {img.ndim}、サイズは {img.shape} です。')\n",
        "\n",
        "# 画像の出力\n",
        "show_image(img)\n",
        "\n",
        "# 反転処理と処理後画像の出力\n",
        "img_r = 255 - img\n",
        "show_image(img_r)"
      ],
      "metadata": {
        "colab": {
          "base_uri": "https://localhost:8080/",
          "height": 235
        },
        "id": "PPEF8KAwJdqP",
        "outputId": "f59f917c-301a-4ba1-b666-526a872a1fbc"
      },
      "execution_count": 72,
      "outputs": [
        {
          "output_type": "stream",
          "name": "stdout",
          "text": [
            "img は <class 'NoneType'> 型のデータで、"
          ]
        },
        {
          "output_type": "error",
          "ename": "AttributeError",
          "evalue": "'NoneType' object has no attribute 'ndim'",
          "traceback": [
            "\u001b[0;31m---------------------------------------------------------------------------\u001b[0m",
            "\u001b[0;31mAttributeError\u001b[0m                            Traceback (most recent call last)",
            "\u001b[0;32m<ipython-input-72-79e1a5d26342>\u001b[0m in \u001b[0;36m<cell line: 16>\u001b[0;34m()\u001b[0m\n\u001b[1;32m     14\u001b[0m \u001b[0;31m# 変数imgが格納するオブジェクトの基本情報の確認\u001b[0m\u001b[0;34m\u001b[0m\u001b[0;34m\u001b[0m\u001b[0m\n\u001b[1;32m     15\u001b[0m \u001b[0mprint\u001b[0m\u001b[0;34m(\u001b[0m\u001b[0;34mf'img は {type(img)} 型のデータで、'\u001b[0m\u001b[0;34m,\u001b[0m\u001b[0mend\u001b[0m\u001b[0;34m=\u001b[0m\u001b[0;34m''\u001b[0m\u001b[0;34m)\u001b[0m\u001b[0;34m\u001b[0m\u001b[0;34m\u001b[0m\u001b[0m\n\u001b[0;32m---> 16\u001b[0;31m \u001b[0mprint\u001b[0m\u001b[0;34m(\u001b[0m\u001b[0;34mf'次元は {img.ndim}、サイズは {img.shape} です。'\u001b[0m\u001b[0;34m)\u001b[0m\u001b[0;34m\u001b[0m\u001b[0;34m\u001b[0m\u001b[0m\n\u001b[0m\u001b[1;32m     17\u001b[0m \u001b[0;34m\u001b[0m\u001b[0m\n\u001b[1;32m     18\u001b[0m \u001b[0;31m# 画像の出力\u001b[0m\u001b[0;34m\u001b[0m\u001b[0;34m\u001b[0m\u001b[0m\n",
            "\u001b[0;31mAttributeError\u001b[0m: 'NoneType' object has no attribute 'ndim'"
          ]
        }
      ]
    },
    {
      "cell_type": "code",
      "source": [
        "%reset -f\n",
        "import numpy as np\n",
        "\n",
        "# 10,000,000個の乱数を生成\n",
        "q = np.random.rand(10_000_000)\n",
        "p = q.tolist()\n",
        "\n",
        "print(q)\n",
        "\n",
        "# リストとして平均値を計算\n",
        "assert type(p) == list\n",
        "%timeit sum(p)/len(p)\n",
        "\n",
        "# ndarray として平均値を計算\n",
        "assert type(q) == np.ndarray\n",
        "%timeit q.mean()"
      ],
      "metadata": {
        "colab": {
          "base_uri": "https://localhost:8080/"
        },
        "id": "2NljpNLSJyoL",
        "outputId": "f6800444-779f-4cb3-a8d8-9e78a3e722df"
      },
      "execution_count": 74,
      "outputs": [
        {
          "output_type": "stream",
          "name": "stdout",
          "text": [
            "[0.34800113 0.86445703 0.08146008 ... 0.75917055 0.17758826 0.55890677]\n",
            "61.8 ms ± 745 µs per loop (mean ± std. dev. of 7 runs, 10 loops each)\n",
            "8 ms ± 887 µs per loop (mean ± std. dev. of 7 runs, 100 loops each)\n"
          ]
        }
      ]
    }
  ]
}